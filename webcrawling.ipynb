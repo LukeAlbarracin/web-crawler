{
 "cells": [
  {
   "cell_type": "markdown",
   "metadata": {},
   "source": [
    "# Acceptance Criteria"
   ]
  },
  {
   "cell_type": "markdown",
   "metadata": {},
   "source": [
    "The Secretary of State of North Dakota provides a business search web app that allows users to search for businesses by name. Your task:\n",
    "- Download information for all active companies whose names start with the letter \"X\" (e.g., Xtreme Xteriors LLC) including their Commercial Registered Agent, Registered Agent, and/or Owners. Save the crawled data in the file format of your choice.\n",
    "- Create and plot a graph of the companies, registered agents, and owners. You may consider names as sufficiently unique to identify each node in the graph.\n",
    "- Full Task: [here](https://gist.github.com/jvani/57200744e1567f33041130840326d488)\n",
    "- Website First Stop: [here](https://firststop.sos.nd.gov/search/business)\n",
    "\n",
    "Discuss:\n",
    "- Volume, Velocity, Variety"
   ]
  },
  {
   "cell_type": "markdown",
   "metadata": {},
   "source": [
    "# Install, format, and lint"
   ]
  },
  {
   "cell_type": "code",
   "execution_count": null,
   "metadata": {},
   "outputs": [],
   "source": [
    "!make install #Run command to install necessary modules\n",
    "%conda install --channel conda-forge pygraphviz\n",
    "!make format\n",
    "!make lint # Run a linter in Flake8"
   ]
  },
  {
   "cell_type": "markdown",
   "metadata": {},
   "source": [
    "# Run the crawler"
   ]
  },
  {
   "cell_type": "markdown",
   "metadata": {},
   "source": [
    "This runs the crawler for the FirstStop website for web scraping. This uses the FRAMEWORK (not library) called Scrapy which has (note: batteries included) :\n",
    "- automatic deduplication\n",
    "- customizable recursion depth for scraping\n",
    "- keeps track of cookies, user-agent spoofing, proxy support\n",
    "- asynchronous requests (Twisted)\n",
    "- data pipeline support + error handling & logging\n",
    "- auto throttling\n",
    "- faster than BeautifulSoup, more scalable"
   ]
  },
  {
   "cell_type": "code",
   "execution_count": null,
   "metadata": {},
   "outputs": [],
   "source": [
    "# Run the crawler\n",
    "!make crawl"
   ]
  },
  {
   "cell_type": "markdown",
   "metadata": {},
   "source": [
    "# Read the output file"
   ]
  },
  {
   "cell_type": "markdown",
   "metadata": {},
   "source": [
    "Reads the output collected from the FirstStop crawler for further processing"
   ]
  },
  {
   "cell_type": "code",
   "execution_count": null,
   "metadata": {},
   "outputs": [],
   "source": [
    "import json\n",
    "with open('scrapy/output.json', 'r') as file:\n",
    "    # Loads the JSON data from the file created from 'scrapy'\n",
    "    companies_data = json.load(file)\n",
    "\n",
    "companies_data"
   ]
  },
  {
   "cell_type": "markdown",
   "metadata": {},
   "source": [
    "# Create the Graph"
   ]
  },
  {
   "cell_type": "markdown",
   "metadata": {},
   "source": [
    "Generate the graphs to visualize relationships, parsing through the data"
   ]
  },
  {
   "cell_type": "code",
   "execution_count": 4,
   "metadata": {},
   "outputs": [],
   "source": [
    "import networkx as nx\n",
    "G = nx.Graph() # Person or Company that is an agent / owner\n",
    "\n",
    "def create_graphs():\n",
    "    \"\"\"\n",
    "    Creates the graphs, with two different types of nodes: company and person\n",
    "\n",
    "    The edges are defined through defining relation between\n",
    "    owner/agent and company\n",
    "    \"\"\"\n",
    "    for data in companies_data:\n",
    "        company_name = data[\"Company\"]\n",
    "        G.add_node(company_name, type=\"Company\")\n",
    "        # TODO: All to Uppercase, and strip with regex or str join\n",
    "        if \"Commercial Registered Agent\" in data:\n",
    "            cr_agent = data[\"Commercial Registered Agent\"].split(\"\\n\")[0]\n",
    "            G.add_node(cr_agent, type=\"Person\")\n",
    "            G.add_edges_from([(company_name, cr_agent),])\n",
    "        if \"Registered Agent\" in data:\n",
    "            r_agent = data[\"Registered Agent\"].split(\"\\n\")[0]\n",
    "            G.add_node(r_agent, type=\"Person\")\n",
    "            G.add_edges_from([(company_name, r_agent),])\n",
    "        if \"Owner Name\" in data:\n",
    "            owner = data[\"Owner Name\"]\n",
    "            G.add_node(owner, type=\"Person\")\n",
    "            G.add_edges_from([(company_name, owner),])\n",
    "        elif \"Owners\" in data:\n",
    "            owner_1 = data[\"Owners\"].split(\"\\n\")[0]\n",
    "            owner_2 = data[\"\"].split(\"\\n\")[0]\n",
    "            G.add_node(owner_1, type=\"Person\")\n",
    "            G.add_node(owner_2, type=\"Person\")\n",
    "            edges = [(owner_1, company_name), (owner_2, company_name),]\n",
    "            G.add_edges_from(edges)\n",
    "        # TODO: Throw an exception if none are satisfied\n",
    "\n",
    "create_graphs()"
   ]
  },
  {
   "cell_type": "markdown",
   "metadata": {},
   "source": [
    "# Visualize the Graph"
   ]
  },
  {
   "cell_type": "code",
   "execution_count": 59,
   "metadata": {},
   "outputs": [],
   "source": [
    "# Set this flag to False if labels on graph are too distracting\n",
    "graph_show_labels = True"
   ]
  },
  {
   "cell_type": "code",
   "execution_count": null,
   "metadata": {},
   "outputs": [],
   "source": [
    "import matplotlib.pyplot as plt\n",
    "\n",
    "def visualize_graph(type_colors):\n",
    "    \"\"\"\n",
    "    Visualizes graphs representing relationship between owner/agent and companies\n",
    "    \"\"\"\n",
    "    plt.figure(1, figsize=(16, 16))\n",
    "    plt.title('Company and Owner/Agent Network')\n",
    "    pos = nx.nx_agraph.graphviz_layout(G, prog=\"neato\")\n",
    "    components = (G.subgraph(component) for component in nx.connected_components(G))\n",
    "    for sub_graph in components:\n",
    "        subgraph_colors = [type_colors[G.nodes[node]['type']] for node in sub_graph.nodes()]\n",
    "        nx.draw(sub_graph, pos, node_size=40, node_color=subgraph_colors, with_labels=graph_show_labels)\n",
    "\n",
    "colors = {'Company': 'lightblue', 'Person': 'lightgreen'}\n",
    "\n",
    "visualize_graph(colors)"
   ]
  },
  {
   "cell_type": "code",
   "execution_count": null,
   "metadata": {},
   "outputs": [],
   "source": [
    "def print_connected_component_data():\n",
    "    \"Prints out connected component data\"\n",
    "    for component in nx.connected_components(G):\n",
    "        print(G.subgraph(component).nodes(data=True))\n",
    "\n",
    "print_connected_component_data()"
   ]
  },
  {
   "cell_type": "markdown",
   "metadata": {},
   "source": [
    "# Push to Neo4J"
   ]
  },
  {
   "cell_type": "code",
   "execution_count": null,
   "metadata": {},
   "outputs": [],
   "source": [
    "import os\n",
    "from dotenv import load_dotenv\n",
    "from neo4j import GraphDatabase\n",
    "\n",
    "def init_neo4j_driver():\n",
    "    NEO4J_URI=str(os.getenv('NEO4J_URI'))\n",
    "    NEO4J_USERNAME=str(os.getenv(\"NEO4J_USERNAME\"))\n",
    "    NEO4J_PASSWORD=str(os.getenv(\"NEO4J_PASSWORD\"))\n",
    "    print(NEO4J_URI)\n",
    "\n",
    "    return GraphDatabase.driver(uri=NEO4J_URI,auth=(NEO4J_USERNAME,NEO4J_PASSWORD))\n",
    "\n",
    "load_dotenv(override=True)\n",
    "driver = init_neo4j_driver()"
   ]
  },
  {
   "cell_type": "code",
   "execution_count": 6,
   "metadata": {},
   "outputs": [],
   "source": [
    "import nxneo4j as nxneo\n",
    "network = nxneo.Graph(driver)\n",
    "network.delete_all() # Clear all"
   ]
  },
  {
   "cell_type": "code",
   "execution_count": 7,
   "metadata": {},
   "outputs": [],
   "source": [
    "import nxneo4j as nxneo\n",
    "G = nxneo.Graph(driver) # Person or Company that is an agent / owner\n",
    "\n",
    "def create_network_neo4j():\n",
    "    \"\"\"\n",
    "    Creates the Network and writes it to Neo4 using the NxNeo4J Library\n",
    "    \"\"\"\n",
    "    for data in companies_data:\n",
    "        company_name = data[\"Company\"]\n",
    "        G.add_node(company_name, type=\"Company\")\n",
    "        if \"Commercial Registered Agent\" in data:\n",
    "            cr_agent = data[\"Commercial Registered Agent\"].split(\"\\n\")[0]\n",
    "            G.add_node(cr_agent, type=\"Person\")\n",
    "            G.add_edges_from([(company_name, cr_agent),])\n",
    "        if \"Registered Agent\" in data:\n",
    "            r_agent = data[\"Registered Agent\"].split(\"\\n\")[0]\n",
    "            G.add_node(r_agent, type=\"Person\")\n",
    "            G.add_edges_from([(company_name, r_agent),])\n",
    "        if \"Owner Name\" in data:\n",
    "            owner = data[\"Owner Name\"]\n",
    "            G.add_node(owner, type=\"Person\")\n",
    "            G.add_edges_from([(company_name, owner),])\n",
    "        elif \"Owners\" in data:\n",
    "            owner_1 = data[\"Owners\"].split(\"\\n\")[0]\n",
    "            owner_2 = data[\"\"].split(\"\\n\")[0]\n",
    "            G.add_node(owner_1, type=\"Person\")\n",
    "            G.add_node(owner_2, type=\"Person\")\n",
    "            edges = [(owner_1, company_name), (owner_2, company_name),]\n",
    "            G.add_edges_from(edges)\n",
    "\n",
    "create_network_neo4j()"
   ]
  },
  {
   "cell_type": "markdown",
   "metadata": {},
   "source": [
    "### Anomalies :\n",
    "- x4i limited\n",
    "- xanadu\n",
    "- tanner collette\n",
    "\n",
    "### Cypher:\n",
    "- `:config initialNodeDisplay: 1000`\n",
    "\n",
    "\n",
    "Order of Steps:\n",
    "\n",
    "- Figure out API for businesses and parse\n",
    "  - `Authorization: undefined` header necessary to resolve issues w/ request\n",
    "- Figure out API for each business and parse\n",
    "- Translate this to Scrapy\n",
    "- Set up jupyter notebook for visualization purposes\n",
    "- Add documentation\n",
    "- Push to Neo4J\n",
    "  - Tried using NeonX connector library\n",
    "  - Used Networkx-Neo4J Neo4J API library instead"
   ]
  },
  {
   "cell_type": "markdown",
   "metadata": {},
   "source": [
    "# Process"
   ]
  },
  {
   "cell_type": "markdown",
   "metadata": {},
   "source": [
    "Collect, Clean, Label, Validate, Visualize, Storage\n",
    "\n",
    "Anomalies:\n",
    "- x4i limited\n",
    "- xanadu\n",
    "- tanner collette"
   ]
  }
 ],
 "metadata": {
  "kernelspec": {
   "display_name": "base",
   "language": "python",
   "name": "python3"
  },
  "language_info": {
   "codemirror_mode": {
    "name": "ipython",
    "version": 3
   },
   "file_extension": ".py",
   "mimetype": "text/x-python",
   "name": "python",
   "nbconvert_exporter": "python",
   "pygments_lexer": "ipython3",
   "version": "3.12.5"
  }
 },
 "nbformat": 4,
 "nbformat_minor": 2
}
