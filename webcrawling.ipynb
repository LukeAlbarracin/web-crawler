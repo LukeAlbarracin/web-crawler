{
 "cells": [
  {
   "cell_type": "code",
   "execution_count": 90,
   "metadata": {},
   "outputs": [
    {
     "name": "stdout",
     "output_type": "stream",
     "text": [
      "pip install -r requirements.txt\n",
      "Requirement already satisfied: scrapy in /Users/icefreeze/miniconda3/lib/python3.12/site-packages (from -r requirements.txt (line 1)) (2.11.2)\n",
      "Requirement already satisfied: pydispatch in /Users/icefreeze/miniconda3/lib/python3.12/site-packages (from -r requirements.txt (line 2)) (1.1.0)\n",
      "Requirement already satisfied: networkx in /Users/icefreeze/miniconda3/lib/python3.12/site-packages (from -r requirements.txt (line 3)) (3.3)\n",
      "Requirement already satisfied: matplotlib in /Users/icefreeze/miniconda3/lib/python3.12/site-packages (from -r requirements.txt (line 4)) (3.9.2)\n",
      "Requirement already satisfied: Twisted>=18.9.0 in /Users/icefreeze/miniconda3/lib/python3.12/site-packages (from scrapy->-r requirements.txt (line 1)) (24.7.0)\n",
      "Requirement already satisfied: cryptography>=36.0.0 in /Users/icefreeze/miniconda3/lib/python3.12/site-packages (from scrapy->-r requirements.txt (line 1)) (43.0.0)\n",
      "Requirement already satisfied: cssselect>=0.9.1 in /Users/icefreeze/miniconda3/lib/python3.12/site-packages (from scrapy->-r requirements.txt (line 1)) (1.2.0)\n",
      "Requirement already satisfied: itemloaders>=1.0.1 in /Users/icefreeze/miniconda3/lib/python3.12/site-packages (from scrapy->-r requirements.txt (line 1)) (1.3.1)\n",
      "Requirement already satisfied: parsel>=1.5.0 in /Users/icefreeze/miniconda3/lib/python3.12/site-packages (from scrapy->-r requirements.txt (line 1)) (1.9.1)\n",
      "Requirement already satisfied: pyOpenSSL>=21.0.0 in /Users/icefreeze/miniconda3/lib/python3.12/site-packages (from scrapy->-r requirements.txt (line 1)) (24.2.1)\n",
      "Requirement already satisfied: queuelib>=1.4.2 in /Users/icefreeze/miniconda3/lib/python3.12/site-packages (from scrapy->-r requirements.txt (line 1)) (1.7.0)\n",
      "Requirement already satisfied: service-identity>=18.1.0 in /Users/icefreeze/miniconda3/lib/python3.12/site-packages (from scrapy->-r requirements.txt (line 1)) (24.1.0)\n",
      "Requirement already satisfied: w3lib>=1.17.0 in /Users/icefreeze/miniconda3/lib/python3.12/site-packages (from scrapy->-r requirements.txt (line 1)) (2.2.1)\n",
      "Requirement already satisfied: zope.interface>=5.1.0 in /Users/icefreeze/miniconda3/lib/python3.12/site-packages (from scrapy->-r requirements.txt (line 1)) (7.0.3)\n",
      "Requirement already satisfied: protego>=0.1.15 in /Users/icefreeze/miniconda3/lib/python3.12/site-packages (from scrapy->-r requirements.txt (line 1)) (0.3.1)\n",
      "Requirement already satisfied: itemadapter>=0.1.0 in /Users/icefreeze/miniconda3/lib/python3.12/site-packages (from scrapy->-r requirements.txt (line 1)) (0.9.0)\n",
      "Requirement already satisfied: setuptools in /Users/icefreeze/miniconda3/lib/python3.12/site-packages (from scrapy->-r requirements.txt (line 1)) (72.1.0)\n",
      "Requirement already satisfied: packaging in /Users/icefreeze/miniconda3/lib/python3.12/site-packages (from scrapy->-r requirements.txt (line 1)) (24.1)\n",
      "Requirement already satisfied: tldextract in /Users/icefreeze/miniconda3/lib/python3.12/site-packages (from scrapy->-r requirements.txt (line 1)) (5.1.2)\n",
      "Requirement already satisfied: lxml>=4.4.1 in /Users/icefreeze/miniconda3/lib/python3.12/site-packages (from scrapy->-r requirements.txt (line 1)) (5.3.0)\n",
      "Requirement already satisfied: defusedxml>=0.7.1 in /Users/icefreeze/miniconda3/lib/python3.12/site-packages (from scrapy->-r requirements.txt (line 1)) (0.7.1)\n",
      "Requirement already satisfied: PyDispatcher>=2.0.5 in /Users/icefreeze/miniconda3/lib/python3.12/site-packages (from scrapy->-r requirements.txt (line 1)) (2.0.7)\n",
      "Requirement already satisfied: colorama>=0.2.7 in /Users/icefreeze/miniconda3/lib/python3.12/site-packages (from pydispatch->-r requirements.txt (line 2)) (0.4.6)\n",
      "Requirement already satisfied: six>=1.5.2 in /Users/icefreeze/miniconda3/lib/python3.12/site-packages (from pydispatch->-r requirements.txt (line 2)) (1.16.0)\n",
      "Requirement already satisfied: contourpy>=1.0.1 in /Users/icefreeze/miniconda3/lib/python3.12/site-packages (from matplotlib->-r requirements.txt (line 4)) (1.3.0)\n",
      "Requirement already satisfied: cycler>=0.10 in /Users/icefreeze/miniconda3/lib/python3.12/site-packages (from matplotlib->-r requirements.txt (line 4)) (0.12.1)\n",
      "Requirement already satisfied: fonttools>=4.22.0 in /Users/icefreeze/miniconda3/lib/python3.12/site-packages (from matplotlib->-r requirements.txt (line 4)) (4.53.1)\n",
      "Requirement already satisfied: kiwisolver>=1.3.1 in /Users/icefreeze/miniconda3/lib/python3.12/site-packages (from matplotlib->-r requirements.txt (line 4)) (1.4.7)\n",
      "Requirement already satisfied: numpy>=1.23 in /Users/icefreeze/miniconda3/lib/python3.12/site-packages (from matplotlib->-r requirements.txt (line 4)) (2.1.1)\n",
      "Requirement already satisfied: pillow>=8 in /Users/icefreeze/miniconda3/lib/python3.12/site-packages (from matplotlib->-r requirements.txt (line 4)) (10.4.0)\n",
      "Requirement already satisfied: pyparsing>=2.3.1 in /Users/icefreeze/miniconda3/lib/python3.12/site-packages (from matplotlib->-r requirements.txt (line 4)) (3.1.4)\n",
      "Requirement already satisfied: python-dateutil>=2.7 in /Users/icefreeze/miniconda3/lib/python3.12/site-packages (from matplotlib->-r requirements.txt (line 4)) (2.9.0.post0)\n",
      "Requirement already satisfied: cffi>=1.12 in /Users/icefreeze/miniconda3/lib/python3.12/site-packages (from cryptography>=36.0.0->scrapy->-r requirements.txt (line 1)) (1.16.0)\n",
      "Requirement already satisfied: jmespath>=0.9.5 in /Users/icefreeze/miniconda3/lib/python3.12/site-packages (from itemloaders>=1.0.1->scrapy->-r requirements.txt (line 1)) (1.0.1)\n",
      "Requirement already satisfied: attrs>=19.1.0 in /Users/icefreeze/miniconda3/lib/python3.12/site-packages (from service-identity>=18.1.0->scrapy->-r requirements.txt (line 1)) (24.2.0)\n",
      "Requirement already satisfied: pyasn1 in /Users/icefreeze/miniconda3/lib/python3.12/site-packages (from service-identity>=18.1.0->scrapy->-r requirements.txt (line 1)) (0.6.0)\n",
      "Requirement already satisfied: pyasn1-modules in /Users/icefreeze/miniconda3/lib/python3.12/site-packages (from service-identity>=18.1.0->scrapy->-r requirements.txt (line 1)) (0.4.0)\n",
      "Requirement already satisfied: automat>=0.8.0 in /Users/icefreeze/miniconda3/lib/python3.12/site-packages (from Twisted>=18.9.0->scrapy->-r requirements.txt (line 1)) (24.8.1)\n",
      "Requirement already satisfied: constantly>=15.1 in /Users/icefreeze/miniconda3/lib/python3.12/site-packages (from Twisted>=18.9.0->scrapy->-r requirements.txt (line 1)) (23.10.4)\n",
      "Requirement already satisfied: hyperlink>=17.1.1 in /Users/icefreeze/miniconda3/lib/python3.12/site-packages (from Twisted>=18.9.0->scrapy->-r requirements.txt (line 1)) (21.0.0)\n",
      "Requirement already satisfied: incremental>=24.7.0 in /Users/icefreeze/miniconda3/lib/python3.12/site-packages (from Twisted>=18.9.0->scrapy->-r requirements.txt (line 1)) (24.7.2)\n",
      "Requirement already satisfied: typing-extensions>=4.2.0 in /Users/icefreeze/miniconda3/lib/python3.12/site-packages (from Twisted>=18.9.0->scrapy->-r requirements.txt (line 1)) (4.12.2)\n",
      "Requirement already satisfied: idna in /Users/icefreeze/miniconda3/lib/python3.12/site-packages (from tldextract->scrapy->-r requirements.txt (line 1)) (3.7)\n",
      "Requirement already satisfied: requests>=2.1.0 in /Users/icefreeze/miniconda3/lib/python3.12/site-packages (from tldextract->scrapy->-r requirements.txt (line 1)) (2.32.3)\n",
      "Requirement already satisfied: requests-file>=1.4 in /Users/icefreeze/miniconda3/lib/python3.12/site-packages (from tldextract->scrapy->-r requirements.txt (line 1)) (2.1.0)\n",
      "Requirement already satisfied: filelock>=3.0.8 in /Users/icefreeze/miniconda3/lib/python3.12/site-packages (from tldextract->scrapy->-r requirements.txt (line 1)) (3.16.0)\n",
      "Requirement already satisfied: pycparser in /Users/icefreeze/miniconda3/lib/python3.12/site-packages (from cffi>=1.12->cryptography>=36.0.0->scrapy->-r requirements.txt (line 1)) (2.21)\n",
      "Requirement already satisfied: charset-normalizer<4,>=2 in /Users/icefreeze/miniconda3/lib/python3.12/site-packages (from requests>=2.1.0->tldextract->scrapy->-r requirements.txt (line 1)) (2.0.4)\n",
      "Requirement already satisfied: urllib3<3,>=1.21.1 in /Users/icefreeze/miniconda3/lib/python3.12/site-packages (from requests>=2.1.0->tldextract->scrapy->-r requirements.txt (line 1)) (2.2.2)\n",
      "Requirement already satisfied: certifi>=2017.4.17 in /Users/icefreeze/miniconda3/lib/python3.12/site-packages (from requests>=2.1.0->tldextract->scrapy->-r requirements.txt (line 1)) (2024.8.30)\n",
      "black scrapy/sayariproject/\n",
      "\u001b[1mAll done! ✨ 🍰 ✨\u001b[0m\n",
      "\u001b[34m7 files \u001b[0mleft unchanged.\n",
      "flake8 --ignore=E121,E501,E265,F821 scrapy/sayariproject/ ./webcrawling.ipynb\n"
     ]
    }
   ],
   "source": [
    "!make install #Run command to install necessary modules\n",
    "!make format\n",
    "!make lint # Run a linter in Flake8"
   ]
  },
  {
   "cell_type": "code",
   "execution_count": null,
   "metadata": {},
   "outputs": [],
   "source": [
    "# Run the crawler\n",
    "!make crawl"
   ]
  },
  {
   "cell_type": "code",
   "execution_count": null,
   "metadata": {},
   "outputs": [],
   "source": [
    "import json\n",
    "with open('scrapy/output.json', 'r') as file:\n",
    "    # Loads the JSON data from the file created from 'scrapy'\n",
    "    companies_data = json.load(file)\n",
    "\n",
    "companies_data"
   ]
  },
  {
   "cell_type": "code",
   "execution_count": 98,
   "metadata": {},
   "outputs": [],
   "source": [
    "import networkx as nx\n",
    "G = nx.Graph() # Person or Company that is an agent / owner\n",
    "\n",
    "def create_graphs():\n",
    "    \"\"\"\n",
    "    Creates the graphs, with two different types of nodes: company and person\n",
    "\n",
    "    The edges are defined through defining relation between\n",
    "    owner/agent and company\n",
    "    \"\"\"\n",
    "    for data in companies_data:\n",
    "        company_name = data[\"Company\"]\n",
    "        G.add_node(company_name, type=\"Company\")\n",
    "        if \"Commercial Registered Agent\" in data:\n",
    "            cr_agent = data[\"Commercial Registered Agent\"].split(\"\\n\")[0]\n",
    "            G.add_node(cr_agent, type=\"Person\")\n",
    "            G.add_edges_from([(company_name, cr_agent),])\n",
    "        if \"Registered Agent\" in data:\n",
    "            r_agent = data[\"Registered Agent\"].split(\"\\n\")[0]\n",
    "            G.add_node(r_agent, type=\"Person\")\n",
    "            G.add_edges_from([(company_name, r_agent),])\n",
    "        if \"Owner Name\" in data:\n",
    "            owner = data[\"Owner Name\"]\n",
    "            G.add_node(owner, type=\"Person\")\n",
    "            G.add_edges_from([(company_name, owner),])\n",
    "        elif \"Owners\" in data:\n",
    "            owner_1 = data[\"Owners\"].split(\"\\n\")[0]\n",
    "            owner_2 = data[\"\"].split(\"\\n\")[0]\n",
    "            G.add_node(owner_1, type=\"Person\")\n",
    "            G.add_node(owner_2, type=\"Person\")\n",
    "            edges = [(owner_1, company_name), (owner_2, company_name),]\n",
    "            G.add_edges_from(edges)\n",
    "\n",
    "create_graphs()"
   ]
  },
  {
   "cell_type": "code",
   "execution_count": 94,
   "metadata": {},
   "outputs": [],
   "source": [
    "# Set this to False if labels on graph are too distracting\n",
    "graph_show_labels = True"
   ]
  },
  {
   "cell_type": "code",
   "execution_count": null,
   "metadata": {},
   "outputs": [],
   "source": [
    "import matplotlib.pyplot as plt\n",
    "\n",
    "def visualize_graph(type_colors):\n",
    "    \"\"\"\n",
    "    Visualizes graphs representing relationship between owner/agent and companies\n",
    "    \"\"\"\n",
    "    plt.figure(1, figsize=(16, 16))\n",
    "    plt.title('Company and Owner/Agent Network')\n",
    "    pos = nx.nx_agraph.graphviz_layout(G, prog=\"neato\")\n",
    "    components = (G.subgraph(component) for component in nx.connected_components(G))\n",
    "    for sub_graph in components:\n",
    "        subgraph_colors = [type_colors[G.nodes[node]['type']] for node in sub_graph.nodes()]\n",
    "        nx.draw(sub_graph, pos, node_size=40, node_color=subgraph_colors, vmin=0.0, vmax=1.0, with_labels=graph_show_labels)\n",
    "\n",
    "colors = {'Company': 'lightblue', 'Person': 'lightgreen'}\n",
    "\n",
    "visualize_graph(colors)"
   ]
  },
  {
   "cell_type": "code",
   "execution_count": null,
   "metadata": {},
   "outputs": [],
   "source": [
    "def print_connected_component_data():\n",
    "    \"Prints out connected component data\"\n",
    "    for component in nx.connected_components(G):\n",
    "        print(G.subgraph(component).nodes(data=True))\n",
    "\n",
    "print_connected_component_data()"
   ]
  }
 ],
 "metadata": {
  "kernelspec": {
   "display_name": "base",
   "language": "python",
   "name": "python3"
  },
  "language_info": {
   "codemirror_mode": {
    "name": "ipython",
    "version": 3
   },
   "file_extension": ".py",
   "mimetype": "text/x-python",
   "name": "python",
   "nbconvert_exporter": "python",
   "pygments_lexer": "ipython3",
   "version": "3.12.5"
  }
 },
 "nbformat": 4,
 "nbformat_minor": 2
}
