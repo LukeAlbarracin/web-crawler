{
 "cells": [
  {
   "cell_type": "code",
   "execution_count": null,
   "metadata": {},
   "outputs": [],
   "source": [
    "!make install # Run command to install necessary modules\n",
    "!make format\n",
    "!make lint # Run a linter in Flake8"
   ]
  },
  {
   "cell_type": "code",
   "execution_count": null,
   "metadata": {},
   "outputs": [],
   "source": [
    "# Run the crawler\n",
    "!make crawl"
   ]
  },
  {
   "cell_type": "code",
   "execution_count": null,
   "metadata": {},
   "outputs": [],
   "source": [
    "import json\n",
    "with open('scrapy/output.json', 'r') as file:\n",
    "    # Loads the JSON data from the file created from 'scrapy'\n",
    "    companies_data = json.load(file)\n",
    "\n",
    "companies_data"
   ]
  },
  {
   "cell_type": "code",
   "execution_count": 82,
   "metadata": {},
   "outputs": [],
   "source": [
    "import networkx as nx\n",
    "G = nx.Graph() # Person or Company that is an agent / owner\n",
    "\n",
    "def create_graphs():\n",
    "    \"\"\"\n",
    "    Creates the graphs, with two different types of nodes: company and person\n",
    "\n",
    "    The edges are defined through defining relation between\n",
    "    owner/agent and company\n",
    "    \"\"\"\n",
    "    for data in companies_data:\n",
    "        company_name = data[\"Company\"]\n",
    "        G.add_node(company_name, type=\"Company\")\n",
    "        if \"Commercial Registered Agent\" in data:\n",
    "            cr_agent = data[\"Commercial Registered Agent\"].split(\"\\n\")[0]\n",
    "            G.add_node(cr_agent, type=\"Person\")\n",
    "            G.add_edges_from([(company_name, cr_agent),])\n",
    "        if \"Registered Agent\" in data:\n",
    "            r_agent = data[\"Registered Agent\"].split(\"\\n\")[0]\n",
    "            G.add_node(r_agent, type=\"Person\")\n",
    "            G.add_edges_from([(company_name, r_agent),])\n",
    "        if \"Owner Name\" in data:\n",
    "            owner = data[\"Owner Name\"]\n",
    "            G.add_node(owner, type=\"Person\")\n",
    "            G.add_edges_from([(company_name, owner),])\n",
    "        elif \"Owners\" in data:\n",
    "            owner_1 = data[\"Owners\"].split(\"\\n\")[0]\n",
    "            owner_2 = data[\"\"].split(\"\\n\")[0]\n",
    "            G.add_node(owner_1, type=\"Person\")\n",
    "            G.add_node(owner_2, type=\"Person\")\n",
    "            edges = [(owner_1, company_name), (owner_2, company_name),]\n",
    "            G.add_edges_from(edges)\n",
    "\n",
    "create_graphs()"
   ]
  },
  {
   "cell_type": "code",
   "execution_count": 51,
   "metadata": {},
   "outputs": [],
   "source": [
    "# Set this to False if labels on graph are too distracting\n",
    "graph_show_labels = True"
   ]
  },
  {
   "cell_type": "code",
   "execution_count": null,
   "metadata": {},
   "outputs": [],
   "source": [
    "import matplotlib.pyplot as plt\n",
    "\n",
    "def visualize_graph(type_colors):\n",
    "    \"\"\"\n",
    "    Visualizes graphs representing relationship between owner/agent and companies\n",
    "    \"\"\"\n",
    "    plt.figure(1, figsize=(16, 16))\n",
    "    plt.title('Company and Owner/Agent Network')\n",
    "    pos = nx.nx_agraph.graphviz_layout(G, prog=\"neato\")\n",
    "    components = (G.subgraph(component) for component in nx.connected_components(G))\n",
    "    for sub_graph in components:\n",
    "        subgraph_colors = [type_colors[G.nodes[node]['type']] for node in sub_graph.nodes()]\n",
    "        nx.draw(sub_graph, pos, node_size=40, node_color=subgraph_colors, vmin=0.0, vmax=1.0, with_labels=graph_show_labels)\n",
    "\n",
    "colors = {'Company': 'lightblue', 'Person': 'lightgreen'}\n",
    "\n",
    "visualize_graph(colors)"
   ]
  },
  {
   "cell_type": "code",
   "execution_count": null,
   "metadata": {},
   "outputs": [],
   "source": [
    "def print_connected_component_data():\n",
    "    \"Prints out connected component data\"\n",
    "    for component in nx.connected_components(G):\n",
    "        print(G.subgraph(component).nodes(data=True))\n",
    "\n",
    "print_connected_component_data()"
   ]
  }
 ],
 "metadata": {
  "kernelspec": {
   "display_name": "base",
   "language": "python",
   "name": "python3"
  },
  "language_info": {
   "codemirror_mode": {
    "name": "ipython",
    "version": 3
   },
   "file_extension": ".py",
   "mimetype": "text/x-python",
   "name": "python",
   "nbconvert_exporter": "python",
   "pygments_lexer": "ipython3",
   "version": "3.12.5"
  }
 },
 "nbformat": 4,
 "nbformat_minor": 2
}
